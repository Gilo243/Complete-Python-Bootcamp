{
 "cells": [
  {
   "cell_type": "markdown",
   "metadata": {},
   "source": [
    "# Milestone Project 2 - Blackjack Game\n",
    "In this milestone project you will be creating a Complete BlackJack Card Game in Python.\n",
    "\n",
    "Here are the requirements:\n",
    "\n",
    "* You need to create a simple text-based [BlackJack](https://en.wikipedia.org/wiki/Blackjack) game\n",
    "* The game needs to have one player versus an automated dealer.\n",
    "* The player can stand or hit.\n",
    "* The player must be able to pick their betting amount.\n",
    "* You need to keep track of the players total money.\n",
    "* You need to alert the player of wins, losses, or busts, etc...\n",
    "\n",
    "And most importantly:\n",
    "\n",
    "* **You must use OOP and classes in some portion of your game. You can not just use functions in your game. Use classes to help you define the Deck and the Player's hand. There are many right ways to do this, so explore it well!**\n",
    "\n",
    "\n",
    "Feel free to expand this game-try including multiple players. Try adding in Double-Down and card splits! Remember to you are free to use any resources you want and as always:\n",
    "\n",
    "# HAVE FUN!"
   ]
  },
  {
   "cell_type": "code",
   "execution_count": null,
   "metadata": {
    "collapsed": true
   },
   "outputs": [],
   "source": []
  },
  {
   "cell_type": "code",
   "execution_count": 1,
   "metadata": {
    "collapsed": true
   },
   "outputs": [],
   "source": [
    "import random"
   ]
  },
  {
   "cell_type": "code",
   "execution_count": 2,
   "metadata": {
    "collapsed": true
   },
   "outputs": [],
   "source": [
    "SUITS = ['H', 'C', 'D', 'S']\n",
    "RANKS = '2 3 4 5 6 7 8 9 J Q K A'.split()\n",
    "MAX_PLAYERS = 8\n",
    "MAX_BALANCE = 1000\n",
    "chip_balance = 0"
   ]
  },
  {
   "cell_type": "code",
   "execution_count": 3,
   "metadata": {
    "collapsed": false
   },
   "outputs": [
    {
     "data": {
      "text/plain": [
       "['2', '3', '4', '5', '6', '7', '8', '9', 'J', 'Q', 'K', 'A']"
      ]
     },
     "execution_count": 3,
     "metadata": {},
     "output_type": "execute_result"
    }
   ],
   "source": [
    "RANKS"
   ]
  },
  {
   "cell_type": "code",
   "execution_count": 4,
   "metadata": {
    "collapsed": false
   },
   "outputs": [],
   "source": [
    "class Card(object):\n",
    "    \n",
    "    def __init__(self, suit, rank):\n",
    "        self.suit = suit\n",
    "        self.rank = rank\n",
    "        self.is_ace = self.rank == 'A'\n",
    "        \n",
    "        if rank == 'A':\n",
    "            self.point = 11\n",
    "        elif rank in ['J', 'Q', 'K']:\n",
    "            self.point = 10\n",
    "        else:\n",
    "            self.point = int(rank)\n",
    "            \n",
    "        self.hidden = False\n",
    "    \n",
    "    def __str__(self):\n",
    "        if self.hidden:\n",
    "            return '[X]'\n",
    "        else:\n",
    "            return '['+self.suit + ' ' + self.rank + ']'\n",
    "    \n",
    "    def hide_card(self):\n",
    "        self.hidden = True\n",
    "        \n",
    "    def reveal_card(self):\n",
    "        self.hidden = False\n"
   ]
  },
  {
   "cell_type": "code",
   "execution_count": 5,
   "metadata": {
    "collapsed": false
   },
   "outputs": [
    {
     "data": {
      "text/plain": [
       "True"
      ]
     },
     "execution_count": 5,
     "metadata": {},
     "output_type": "execute_result"
    }
   ],
   "source": [
    "card = Card('H', 'A')\n",
    "card.is_ace"
   ]
  },
  {
   "cell_type": "code",
   "execution_count": 6,
   "metadata": {
    "collapsed": true
   },
   "outputs": [],
   "source": [
    "class Deck(object):\n",
    "    \n",
    "    def __init__(self):\n",
    "        self.cards = [Card(suit, rank) for suit in SUITS for rank in RANKS]\n",
    "    \n",
    "    def __str__(self):\n",
    "    \n",
    "        deck_string = ' '.join(str(card) for card in self.cards)\n",
    "        return deck_string\n",
    "    \n",
    "    def shuffle(self):\n",
    "        random.shuffle(self.cards)\n",
    "        \n",
    "    def deal_card(self):\n",
    "        card = self.cards.pop()\n",
    "        return card\n",
    "    "
   ]
  },
  {
   "cell_type": "code",
   "execution_count": 7,
   "metadata": {
    "collapsed": false
   },
   "outputs": [
    {
     "name": "stdout",
     "output_type": "stream",
     "text": [
      "[C A] [D 9] [S J] [C 8] [D J] [S Q] [D 6] [H 3] [D 8] [C 3] [H K] [D Q] [H 7] [C 6] [S K] [H 2] [S 8] [C K] [D K] [S 7] [S 2] [C Q] [S A] [D 2] [S 9] [H 6] [H J] [D 3] [S 6] [H Q] [H 8] [S 4] [H A] [C J] [C 4] [S 3] [H 4] [C 9] [D 4] [D 5] [C 5] [C 2] [S 5] [D A] [H 9] [C 7] [D 7] [H 5]\n",
      "[H 5]\n"
     ]
    }
   ],
   "source": [
    "deck = Deck()\n",
    "deck.shuffle()\n",
    "print(deck)\n",
    "print(deck.deal_card())"
   ]
  },
  {
   "cell_type": "code",
   "execution_count": 8,
   "metadata": {
    "collapsed": false
   },
   "outputs": [],
   "source": [
    "class Hand(object):\n",
    "    def __init__(self):\n",
    "        self.hand = []\n",
    "        \n",
    "    def add_card(self, card):\n",
    "        self.hand.append(card)\n",
    "        return self.hand\n",
    "    \n",
    "    def get_value(self):\n",
    "        aces = 0\n",
    "        value = 0\n",
    "        \n",
    "        value = sum(card.point for card in self.hand)\n",
    "        aces = sum(card.is_ace for card in self.hand)\n",
    "        \n",
    "        while (value > 21) and aces:\n",
    "            value -= 10\n",
    "            aces -= 1\n",
    "            \n",
    "        return value\n",
    "    \n",
    "    def show_hand(self):\n",
    "        for card in self.hand:\n",
    "            print(card, end = ' ')\n"
   ]
  },
  {
   "cell_type": "code",
   "execution_count": 9,
   "metadata": {
    "collapsed": false
   },
   "outputs": [
    {
     "name": "stdout",
     "output_type": "stream",
     "text": [
      "[D 7] [C 7] [D 7] [C 7] "
     ]
    }
   ],
   "source": [
    "hand = Hand()\n",
    "hand.add_card(deck.deal_card())\n",
    "hand.add_card(deck.deal_card())\n",
    "hand.hand\n",
    "hand.get_value()\n",
    "hand.show_hand()\n",
    "hand.hand[1]\n",
    "hand.show_hand()"
   ]
  },
  {
   "cell_type": "code",
   "execution_count": 10,
   "metadata": {
    "collapsed": true
   },
   "outputs": [],
   "source": [
    "class Dealer(object):\n",
    "    def __init__(self, name, deck, hand):\n",
    "        self.name = name\n",
    "        self.deck = deck\n",
    "        self.hand = hand\n",
    "        self.is_bust = False\n",
    "        \n",
    "    def hit(self):\n",
    "        print('Hitting....')\n",
    "        self.hand.add_card(self.deck.deal_card())\n",
    "        return self.hand\n",
    "    \n",
    "    def stand(self):\n",
    "        print(\"{} gets {}. Done.\".format(self.name, self.hand.get_value()))\n",
    "        \n",
    "    def check_bust(self):\n",
    "        if self.hand.get_value() > 21:\n",
    "            self.is_bust = True\n",
    "            print(\"{} gets bust!\".format(self.name))\n",
    "        else:\n",
    "            self.stand()\n",
    "        "
   ]
  },
  {
   "cell_type": "code",
   "execution_count": 11,
   "metadata": {
    "collapsed": true
   },
   "outputs": [],
   "source": [
    "d = Dealer(\"Greg\", deck, hand)"
   ]
  },
  {
   "cell_type": "code",
   "execution_count": 12,
   "metadata": {
    "collapsed": false
   },
   "outputs": [
    {
     "name": "stdout",
     "output_type": "stream",
     "text": [
      "Hitting....\n"
     ]
    },
    {
     "data": {
      "text/plain": [
       "<__main__.Hand at 0x7f6d6ae37e48>"
      ]
     },
     "execution_count": 12,
     "metadata": {},
     "output_type": "execute_result"
    }
   ],
   "source": [
    "d.hit()"
   ]
  },
  {
   "cell_type": "code",
   "execution_count": 13,
   "metadata": {
    "collapsed": false
   },
   "outputs": [
    {
     "name": "stdout",
     "output_type": "stream",
     "text": [
      "Greg gets bust!\n"
     ]
    }
   ],
   "source": [
    "d.check_bust()"
   ]
  },
  {
   "cell_type": "code",
   "execution_count": 14,
   "metadata": {
    "collapsed": true
   },
   "outputs": [],
   "source": [
    "class Player(Dealer):\n",
    "    def __init__(self, name, deck, hand, bet= 10):\n",
    "        Dealer.__init__(self, name, deck, hand)\n",
    "        self.bet = bet\n",
    "        self.is_surrender = False\n",
    "        self.is_split = False\n",
    "        self.split = []\n",
    "        \n"
   ]
  },
  {
   "cell_type": "code",
   "execution_count": 15,
   "metadata": {
    "collapsed": false
   },
   "outputs": [],
   "source": [
    "p = Player(\"Percy\", deck, hand)"
   ]
  },
  {
   "cell_type": "code",
   "execution_count": 16,
   "metadata": {
    "collapsed": false
   },
   "outputs": [
    {
     "name": "stdout",
     "output_type": "stream",
     "text": [
      "Hitting....\n"
     ]
    },
    {
     "data": {
      "text/plain": [
       "<__main__.Hand at 0x7f6d6ae37e48>"
      ]
     },
     "execution_count": 16,
     "metadata": {},
     "output_type": "execute_result"
    }
   ],
   "source": [
    "p.hit()"
   ]
  },
  {
   "cell_type": "code",
   "execution_count": 17,
   "metadata": {
    "collapsed": false
   },
   "outputs": [
    {
     "name": "stdout",
     "output_type": "stream",
     "text": [
      "[D 7] [C 7] [H 9] [D A] "
     ]
    }
   ],
   "source": [
    "p.hand.show_hand()"
   ]
  },
  {
   "cell_type": "code",
   "execution_count": 18,
   "metadata": {
    "collapsed": false
   },
   "outputs": [
    {
     "data": {
      "text/plain": [
       "24"
      ]
     },
     "execution_count": 18,
     "metadata": {},
     "output_type": "execute_result"
    }
   ],
   "source": [
    "p.hand.get_value()"
   ]
  },
  {
   "cell_type": "code",
   "execution_count": 19,
   "metadata": {
    "collapsed": false
   },
   "outputs": [
    {
     "data": {
      "text/plain": [
       "<__main__.Hand at 0x7f6d6ae37e48>"
      ]
     },
     "execution_count": 19,
     "metadata": {},
     "output_type": "execute_result"
    }
   ],
   "source": [
    "p.hand"
   ]
  },
  {
   "cell_type": "code",
   "execution_count": 20,
   "metadata": {
    "collapsed": true
   },
   "outputs": [],
   "source": [
    "def input_func(prompt, type_=None, min_=None, max_=None, range_=None):\n",
    "    value = ''\n",
    "    while True:\n",
    "        value = input(prompt)\n",
    "        if type_ is not None:\n",
    "            try:\n",
    "                value = type_(value)\n",
    "            except ValueError:\n",
    "                print (\"Sorry I don't understand.\")\n",
    "                continue\n",
    "        if min_ is not None and value < min_:\n",
    "            print (\"Sorry your input can not be less than %d!\" % min_)\n",
    "        elif max_ is not None and value > max_:\n",
    "            print (\"Sorry your input can not be more than %d!\" % max_)\n",
    "        elif range_ is not None and value not in range_:\n",
    "            print (\"You must select from\", range_)\n",
    "        else:\n",
    "            break\n",
    "    return value"
   ]
  },
  {
   "cell_type": "code",
   "execution_count": 21,
   "metadata": {
    "collapsed": true
   },
   "outputs": [],
   "source": [
    "def play(player, deck):\n",
    "    print (player.name + ': '), player.hand.show_hand()\n",
    "    print (\"Hand Value: {}\".format(player.hand.get_value()))\n",
    "    if player.name == 'Dealer':\n",
    "        while player.hand.get_value() < 17:\n",
    "            player.hit()\n",
    "            player.hand.show_hand()\n",
    "        player.check_bust()\n",
    "    else:\n",
    "        global chip_balance\n",
    "        if chip_balance > player.bet and not player.is_split:\n",
    "            if player.hand.hand[0].point == player.hand.hand[1].point:\n",
    "                choice = input_func(\"Hit, Stand, DoubleDown, Split or Surrender? (h/s/d/p/u) \", str.lower,\n",
    "                                    range_=('h', 's', 'd', 'p', 'u'))\n",
    "            else:\n",
    "                choice = input_func(\"Hit, Stand, DoubleDown or Surrender? (h/s/d/u) \", str.lower,\n",
    "                                    range_=('h', 's', 'd', 'u'))\n",
    "        else:\n",
    "            choice = input_func(\"Hit, Stand or Surrender? (h/s/u) \", str.lower, range_=('h', 's', 'u'))\n",
    "        while choice == 'h':\n",
    "            player.hit()\n",
    "            player.hand.show_hand()\n",
    "            print (\"Hand Value: {}\".format(player.hand.get_value()))\n",
    "            if player.hand.get_value() > 21:\n",
    "                player.is_bust = True\n",
    "                print (\"%s gets bust!\" % player.name)\n",
    "                break\n",
    "            choice = input_func(\"Hit or Stand? (h/s) \", str.lower, range_=('h', 's'))\n",
    "\n",
    "        if choice == 's':\n",
    "            player.stand()\n",
    "\n",
    "        if choice == 'd':\n",
    "            chip_balance -= player.bet\n",
    "            player.bet *= 2\n",
    "            print (\"New balance = %d\" % chip_balance)\n",
    "            player.hit()\n",
    "            player.hand.show_hand()\n",
    "            print (\"Hand Value: {}\".format(player.hand.get_value()))\n",
    "            player.check_bust()\n",
    "\n",
    "        if choice == 'u':\n",
    "            player.is_surrender = True\n",
    "            chip_balance += (player.bet - player.bet / 2)\n",
    "            print (\"New balance = %d\" % chip_balance)\n",
    "\n",
    "        if choice == 'p':\n",
    "            chip_balance -= player.bet\n",
    "            print (\"New balance = %d\" % chip_balance)\n",
    "            player.split.append(Player(' Split_1', deck, player.bet))\n",
    "            player.split.append(Player(' Split_2', deck, player.bet))\n",
    "            for p in player.split:\n",
    "                p.hand.add_card(player.hand.pop(0))\n",
    "                p.hand.add_card(deck.deal_card())\n",
    "                p.is_split = True\n",
    "                play(p, deck)\n"
   ]
  },
  {
   "cell_type": "code",
   "execution_count": 22,
   "metadata": {
    "collapsed": true
   },
   "outputs": [],
   "source": [
    "def report(player, dealer):\n",
    "    global chip_balance\n",
    "    if player.is_surrender:\n",
    "        tag = 'surrender'\n",
    "    elif player.is_bust:\n",
    "        tag = 'lose'\n",
    "    elif len(player.hand.hand) == 2 and player.hand.get_value() == 21 and not player.is_split:\n",
    "        tag = 'blackjack'\n",
    "        chip_balance += player.bet * 3\n",
    "    elif dealer.is_bust or (player.hand.get_value() > dealer.hand.get_value()):\n",
    "        tag = 'win'\n",
    "        chip_balance += player.bet * 2\n",
    "    elif player.hand.get_value() == dealer.hand.get_value():\n",
    "        tag = 'push'\n",
    "        chip_balance += player.bet\n",
    "    else:\n",
    "        tag = 'lose'\n",
    "    print (\"%s: %-*s Balance = %d\" % (player.name, 10, tag, chip_balance))\n"
   ]
  },
  {
   "cell_type": "code",
   "execution_count": 23,
   "metadata": {
    "collapsed": true
   },
   "outputs": [],
   "source": [
    "def game():\n",
    "    players = []\n",
    "    global chip_balance\n",
    "    deck = Deck()\n",
    "    deck.shuffle()\n",
    "\n",
    "    player_num = input_func(\"\\nPlease enter the number of players: (1-8) \", int, 1, MAX_PLAYERS)\n",
    "\n",
    "    print (\"\\nLet's get started...\\n\")\n",
    "\n",
    "    for i in range(player_num):\n",
    "        if chip_balance > 0:\n",
    "            player_name = 'Player_' + str(i + 1)\n",
    "            print (\"%s:\" % player_name)\n",
    "            player_bet = input_func(\"Please bet. The minimal bet is 1 chip. \", int, 1, chip_balance)\n",
    "            chip_balance -= player_bet\n",
    "            print (\"Balance updated. New balance is %d.\" % chip_balance)\n",
    "            player = Player(player_name, deck, Hand(), player_bet)\n",
    "            players.append(player)\n",
    "        else:\n",
    "            print (\"\\nThe actual number of player is %d. There's no balance to support more players.\" % (len(players)))\n",
    "            break\n",
    "\n",
    "    dealer = Dealer('Dealer', deck, Hand())\n",
    "\n",
    "    for i in range(2):\n",
    "        for player in (players + [dealer]):\n",
    "            player.hand.add_card(deck.deal_card())\n",
    "\n",
    "    dealer.hand.hand[1].hide_card()\n",
    "    print (\"\\nDealer:\")\n",
    "    dealer.hand.show_hand()\n",
    "    print(\"\\n\")\n",
    "    dealer.hand.hand[1].reveal_card()\n",
    "\n",
    "    for player in (players + [dealer]):\n",
    "        play(player, deck)\n",
    "        print(\"\\n\")\n",
    "\n",
    "    print (\"...Final result...\\n\")\n",
    "\n",
    "    for player in players:\n",
    "        if not player.split:\n",
    "            report(player, dealer)\n",
    "        else:\n",
    "            print (\"%s: split\" % player.name)\n",
    "            for p in player.split:\n",
    "                report(p, dealer)\n",
    "\n",
    "    print (\"\\nFinal chip balance is %d.\\n\" % chip_balance)\n"
   ]
  },
  {
   "cell_type": "code",
   "execution_count": 24,
   "metadata": {
    "collapsed": false
   },
   "outputs": [
    {
     "name": "stdout",
     "output_type": "stream",
     "text": [
      "\n",
      "Welcome to BlackJack! Please enter the chip balance: (1-1000) 100\n",
      "\n",
      "Please enter the number of players: (1-8) 2\n",
      "\n",
      "Let's get started...\n",
      "\n",
      "Player_1:\n",
      "Please bet. The minimal bet is 1 chip. 10\n",
      "Balance updated. New balance is 90.\n",
      "Player_2:\n",
      "Please bet. The minimal bet is 1 chip. 10\n",
      "Balance updated. New balance is 80.\n",
      "\n",
      "Dealer:\n",
      "[H A] [X] \n",
      "\n",
      "Player_1: \n",
      "[S 6] [S K] Hand Value: 16\n",
      "Hit, Stand, DoubleDown or Surrender? (h/s/d/u) h\n",
      "Hitting....\n",
      "[S 6] [S K] [C K] Hand Value: 26\n",
      "Player_1 gets bust!\n",
      "\n",
      "\n",
      "Player_2: \n",
      "[D A] [H 6] Hand Value: 17\n",
      "Hit, Stand, DoubleDown or Surrender? (h/s/d/u) s\n",
      "Player_2 gets 17. Done.\n",
      "\n",
      "\n",
      "Dealer: \n",
      "[H A] [D 3] Hand Value: 14\n",
      "Hitting....\n",
      "[H A] [D 3] [H 9] Hitting....\n",
      "[H A] [D 3] [H 9] [S 8] Dealer gets 21. Done.\n",
      "\n",
      "\n",
      "...Final result...\n",
      "\n",
      "Player_1: lose       Balance = 80\n",
      "Player_2: lose       Balance = 80\n",
      "\n",
      "Final chip balance is 80.\n",
      "\n",
      "Do you want to continue? (y/n) y\n",
      "\n",
      "Please enter the number of players: (1-8) 2\n",
      "\n",
      "Let's get started...\n",
      "\n",
      "Player_1:\n",
      "Please bet. The minimal bet is 1 chip. 20\n",
      "Balance updated. New balance is 60.\n",
      "Player_2:\n",
      "Please bet. The minimal bet is 1 chip. 20\n",
      "Balance updated. New balance is 40.\n",
      "\n",
      "Dealer:\n",
      "[D 2] [X] \n",
      "\n",
      "Player_1: \n",
      "[H 7] [D 7] Hand Value: 14\n",
      "Hit, Stand, DoubleDown, Split or Surrender? (h/s/d/p/u) h\n",
      "Hitting....\n",
      "[H 7] [D 7] [H 6] Hand Value: 20\n",
      "Hit or Stand? (h/s) s\n",
      "Player_1 gets 20. Done.\n",
      "\n",
      "\n",
      "Player_2: \n",
      "[H J] [H 9] Hand Value: 19\n",
      "Hit, Stand, DoubleDown or Surrender? (h/s/d/u) s\n",
      "Player_2 gets 19. Done.\n",
      "\n",
      "\n",
      "Dealer: \n",
      "[D 2] [D 9] Hand Value: 11\n",
      "Hitting....\n",
      "[D 2] [D 9] [C A] Hitting....\n",
      "[D 2] [D 9] [C A] [C 3] Hitting....\n",
      "[D 2] [D 9] [C A] [C 3] [S 3] Dealer gets 18. Done.\n",
      "\n",
      "\n",
      "...Final result...\n",
      "\n",
      "Player_1: win        Balance = 80\n",
      "Player_2: win        Balance = 120\n",
      "\n",
      "Final chip balance is 120.\n",
      "\n",
      "Do you want to continue? (y/n) y\n",
      "\n",
      "Please enter the number of players: (1-8) 2\n",
      "\n",
      "Let's get started...\n",
      "\n",
      "Player_1:\n",
      "Please bet. The minimal bet is 1 chip. 50\n",
      "Balance updated. New balance is 70.\n",
      "Player_2:\n",
      "Please bet. The minimal bet is 1 chip. 50\n",
      "Balance updated. New balance is 20.\n",
      "\n",
      "Dealer:\n",
      "[H A] [X] \n",
      "\n",
      "Player_1: \n",
      "[D 6] [S 8] Hand Value: 14\n",
      "Hit, Stand or Surrender? (h/s/u) h\n",
      "Hitting....\n",
      "[D 6] [S 8] [S J] Hand Value: 24\n",
      "Player_1 gets bust!\n",
      "\n",
      "\n",
      "Player_2: \n",
      "[D K] [S 6] Hand Value: 16\n",
      "Hit, Stand or Surrender? (h/s/u) h\n",
      "Hitting....\n",
      "[D K] [S 6] [S Q] Hand Value: 26\n",
      "Player_2 gets bust!\n",
      "\n",
      "\n",
      "Dealer: \n",
      "[H A] [D 3] Hand Value: 14\n",
      "Hitting....\n",
      "[H A] [D 3] [H 4] Dealer gets 18. Done.\n",
      "\n",
      "\n",
      "...Final result...\n",
      "\n",
      "Player_1: lose       Balance = 20\n",
      "Player_2: lose       Balance = 20\n",
      "\n",
      "Final chip balance is 20.\n",
      "\n",
      "Do you want to continue? (y/n) y\n",
      "\n",
      "Please enter the number of players: (1-8) 2\n",
      "\n",
      "Let's get started...\n",
      "\n",
      "Player_1:\n",
      "Please bet. The minimal bet is 1 chip. 10\n",
      "Balance updated. New balance is 10.\n",
      "Player_2:\n",
      "Please bet. The minimal bet is 1 chip. 10\n",
      "Balance updated. New balance is 0.\n",
      "\n",
      "Dealer:\n",
      "[S 6] [X] \n",
      "\n",
      "Player_1: \n",
      "[H K] [S 5] Hand Value: 15\n",
      "Hit, Stand or Surrender? (h/s/u) h\n",
      "Hitting....\n",
      "[H K] [S 5] [D 7] Hand Value: 22\n",
      "Player_1 gets bust!\n",
      "\n",
      "\n",
      "Player_2: \n",
      "[H J] [D 3] Hand Value: 13\n",
      "Hit, Stand or Surrender? (h/s/u) h\n",
      "Hitting....\n",
      "[H J] [D 3] [D A] Hand Value: 14\n",
      "Hit or Stand? (h/s) h\n",
      "Hitting....\n",
      "[H J] [D 3] [D A] [H 4] Hand Value: 18\n",
      "Hit or Stand? (h/s) s\n",
      "Player_2 gets 18. Done.\n",
      "\n",
      "\n",
      "Dealer: \n",
      "[S 6] [S Q] Hand Value: 16\n",
      "Hitting....\n",
      "[S 6] [S Q] [H 9] Dealer gets bust!\n",
      "\n",
      "\n",
      "...Final result...\n",
      "\n",
      "Player_1: lose       Balance = 0\n",
      "Player_2: win        Balance = 20\n",
      "\n",
      "Final chip balance is 20.\n",
      "\n",
      "Do you want to continue? (y/n) y\n",
      "\n",
      "Please enter the number of players: (1-8) 2\n",
      "\n",
      "Let's get started...\n",
      "\n",
      "Player_1:\n",
      "Please bet. The minimal bet is 1 chip. 10\n",
      "Balance updated. New balance is 10.\n",
      "Player_2:\n",
      "Please bet. The minimal bet is 1 chip. 10\n",
      "Balance updated. New balance is 0.\n",
      "\n",
      "Dealer:\n",
      "[S 9] [X] \n",
      "\n",
      "Player_1: \n",
      "[C J] [H J] Hand Value: 20\n",
      "Hit, Stand or Surrender? (h/s/u) s\n",
      "Player_1 gets 20. Done.\n",
      "\n",
      "\n",
      "Player_2: \n",
      "[C A] [D 6] Hand Value: 17\n",
      "Hit, Stand or Surrender? (h/s/u) s\n",
      "Player_2 gets 17. Done.\n",
      "\n",
      "\n",
      "Dealer: \n",
      "[S 9] [H 8] Hand Value: 17\n",
      "Dealer gets 17. Done.\n",
      "\n",
      "\n",
      "...Final result...\n",
      "\n",
      "Player_1: win        Balance = 20\n",
      "Player_2: push       Balance = 30\n",
      "\n",
      "Final chip balance is 30.\n",
      "\n",
      "Do you want to continue? (y/n) y\n",
      "\n",
      "Please enter the number of players: (1-8) 15\n",
      "Sorry your input can not be more than 8!\n",
      "\n",
      "Please enter the number of players: (1-8) 2\n",
      "\n",
      "Let's get started...\n",
      "\n",
      "Player_1:\n",
      "Please bet. The minimal bet is 1 chip. 15\n",
      "Balance updated. New balance is 15.\n",
      "Player_2:\n",
      "Please bet. The minimal bet is 1 chip. 15\n",
      "Balance updated. New balance is 0.\n",
      "\n",
      "Dealer:\n",
      "[C K] [X] \n",
      "\n",
      "Player_1: \n",
      "[D 8] [C 6] Hand Value: 14\n",
      "Hit, Stand or Surrender? (h/s/u) h\n",
      "Hitting....\n",
      "[D 8] [C 6] [C 7] Hand Value: 21\n",
      "Hit or Stand? (h/s) s\n",
      "Player_1 gets 21. Done.\n",
      "\n",
      "\n",
      "Player_2: \n",
      "[C Q] [S 8] Hand Value: 18\n",
      "Hit, Stand or Surrender? (h/s/u) s\n",
      "Player_2 gets 18. Done.\n",
      "\n",
      "\n",
      "Dealer: \n",
      "[C K] [H 7] Hand Value: 17\n",
      "Dealer gets 17. Done.\n",
      "\n",
      "\n",
      "...Final result...\n",
      "\n",
      "Player_1: win        Balance = 30\n",
      "Player_2: win        Balance = 60\n",
      "\n",
      "Final chip balance is 60.\n",
      "\n",
      "Do you want to continue? (y/n) y\n",
      "\n",
      "Please enter the number of players: (1-8) 2\n",
      "\n",
      "Let's get started...\n",
      "\n",
      "Player_1:\n",
      "Please bet. The minimal bet is 1 chip. 59\n",
      "Balance updated. New balance is 1.\n",
      "Player_2:\n",
      "Please bet. The minimal bet is 1 chip. 1\n",
      "Balance updated. New balance is 0.\n",
      "\n",
      "Dealer:\n",
      "[C A] [X] \n",
      "\n",
      "Player_1: \n",
      "[C J] [C Q] Hand Value: 20\n",
      "Hit, Stand or Surrender? (h/s/u) s\n",
      "Player_1 gets 20. Done.\n",
      "\n",
      "\n",
      "Player_2: \n",
      "[H 6] [S 2] Hand Value: 8\n",
      "Hit, Stand or Surrender? (h/s/u) h\n",
      "Hitting....\n",
      "[H 6] [S 2] [C 4] Hand Value: 12\n",
      "Hit or Stand? (h/s) h\n",
      "Hitting....\n",
      "[H 6] [S 2] [C 4] [D K] Hand Value: 22\n",
      "Player_2 gets bust!\n",
      "\n",
      "\n",
      "Dealer: \n",
      "[C A] [C 3] Hand Value: 14\n",
      "Hitting....\n",
      "[C A] [C 3] [S 9] Hitting....\n",
      "[C A] [C 3] [S 9] [S Q] Dealer gets bust!\n",
      "\n",
      "\n",
      "...Final result...\n",
      "\n",
      "Player_1: win        Balance = 118\n",
      "Player_2: lose       Balance = 118\n",
      "\n",
      "Final chip balance is 118.\n",
      "\n",
      "Do you want to continue? (y/n) y\n",
      "\n",
      "Please enter the number of players: (1-8) 2\n",
      "\n",
      "Let's get started...\n",
      "\n",
      "Player_1:\n",
      "Please bet. The minimal bet is 1 chip. 118\n",
      "Balance updated. New balance is 0.\n",
      "\n",
      "The actual number of player is 1. There's no balance to support more players.\n",
      "\n",
      "Dealer:\n",
      "[D 2] [X] \n",
      "\n",
      "Player_1: \n",
      "[C 6] [C 3] Hand Value: 9\n",
      "Hit, Stand or Surrender? (h/s/u) h\n",
      "Hitting....\n",
      "[C 6] [C 3] [D Q] Hand Value: 19\n",
      "Hit or Stand? (h/s) s\n",
      "Player_1 gets 19. Done.\n",
      "\n",
      "\n",
      "Dealer: \n",
      "[D 2] [S 7] Hand Value: 9\n",
      "Hitting....\n",
      "[D 2] [S 7] [S 9] Dealer gets 18. Done.\n",
      "\n",
      "\n",
      "...Final result...\n",
      "\n",
      "Player_1: win        Balance = 236\n",
      "\n",
      "Final chip balance is 236.\n",
      "\n",
      "Do you want to continue? (y/n) y\n",
      "\n",
      "Please enter the number of players: (1-8) 2\n",
      "\n",
      "Let's get started...\n",
      "\n",
      "Player_1:\n",
      "Please bet. The minimal bet is 1 chip. 200\n",
      "Balance updated. New balance is 36.\n",
      "Player_2:\n",
      "Please bet. The minimal bet is 1 chip. 36\n",
      "Balance updated. New balance is 0.\n",
      "\n",
      "Dealer:\n",
      "[H Q] [X] \n",
      "\n",
      "Player_1: \n",
      "[D 8] [C J] Hand Value: 18\n",
      "Hit, Stand or Surrender? (h/s/u) s\n",
      "Player_1 gets 18. Done.\n",
      "\n",
      "\n",
      "Player_2: \n",
      "[D A] [H K] Hand Value: 21\n",
      "Hit, Stand or Surrender? (h/s/u) s\n",
      "Player_2 gets 21. Done.\n",
      "\n",
      "\n",
      "Dealer: \n",
      "[H Q] [H 6] Hand Value: 16\n",
      "Hitting....\n",
      "[H Q] [H 6] [S 5] Dealer gets 21. Done.\n",
      "\n",
      "\n",
      "...Final result...\n",
      "\n",
      "Player_1: lose       Balance = 0\n",
      "Player_2: blackjack  Balance = 108\n",
      "\n",
      "Final chip balance is 108.\n",
      "\n",
      "Do you want to continue? (y/n) y\n",
      "\n",
      "Please enter the number of players: (1-8) 107\n",
      "Sorry your input can not be more than 8!\n",
      "\n",
      "Please enter the number of players: (1-8) 2\n",
      "\n",
      "Let's get started...\n",
      "\n",
      "Player_1:\n",
      "Please bet. The minimal bet is 1 chip. 107\n",
      "Balance updated. New balance is 1.\n",
      "Player_2:\n",
      "Please bet. The minimal bet is 1 chip. 1\n",
      "Balance updated. New balance is 0.\n",
      "\n",
      "Dealer:\n",
      "[C 9] [X] \n",
      "\n",
      "Player_1: \n",
      "[H 4] [S 2] Hand Value: 6\n",
      "Hit, Stand or Surrender? (h/s/u) h\n",
      "Hitting....\n",
      "[H 4] [S 2] [C 4] Hand Value: 10\n",
      "Hit or Stand? (h/s) h\n",
      "Hitting....\n",
      "[H 4] [S 2] [C 4] [D 7] Hand Value: 17\n",
      "Hit or Stand? (h/s) h\n",
      "Hitting....\n",
      "[H 4] [S 2] [C 4] [D 7] [D 6] Hand Value: 23\n",
      "Player_1 gets bust!\n",
      "\n",
      "\n",
      "Player_2: \n",
      "[H 2] [H 9] Hand Value: 11\n",
      "Hit, Stand or Surrender? (h/s/u) h\n",
      "Hitting....\n",
      "[H 2] [H 9] [D 3] Hand Value: 14\n",
      "Hit or Stand? (h/s) h\n",
      "Hitting....\n",
      "[H 2] [H 9] [D 3] [D J] Hand Value: 24\n",
      "Player_2 gets bust!\n",
      "\n",
      "\n",
      "Dealer: \n",
      "[C 9] [D 4] Hand Value: 13\n",
      "Hitting....\n",
      "[C 9] [D 4] [S 6] Dealer gets 19. Done.\n",
      "\n",
      "\n",
      "...Final result...\n",
      "\n",
      "Player_1: lose       Balance = 0\n",
      "Player_2: lose       Balance = 0\n",
      "\n",
      "Final chip balance is 0.\n",
      "\n",
      "You don't have enough balance to proceed. Game over.\n"
     ]
    }
   ],
   "source": [
    "if __name__ == '__main__':\n",
    "\n",
    "    chip_balance = input_func(\"\\nWelcome to BlackJack! Please enter the chip balance: (1-1000) \", int, 1, MAX_BALANCE)\n",
    "    while True:\n",
    "        game()\n",
    "        if chip_balance < 1:\n",
    "            print (\"You don't have enough balance to proceed. Game over.\")\n",
    "            break\n",
    "        proceed = input_func(\"Do you want to continue? (y/n) \", str.lower, range_=('y', 'n'))\n",
    "        if proceed == 'n':\n",
    "            print (\"\\nThank you for playing! See you next time.\")\n",
    "            break"
   ]
  },
  {
   "cell_type": "code",
   "execution_count": null,
   "metadata": {
    "collapsed": false
   },
   "outputs": [],
   "source": []
  },
  {
   "cell_type": "code",
   "execution_count": null,
   "metadata": {
    "collapsed": true
   },
   "outputs": [],
   "source": []
  },
  {
   "cell_type": "code",
   "execution_count": null,
   "metadata": {
    "collapsed": true
   },
   "outputs": [],
   "source": []
  },
  {
   "cell_type": "code",
   "execution_count": null,
   "metadata": {
    "collapsed": true
   },
   "outputs": [],
   "source": []
  },
  {
   "cell_type": "code",
   "execution_count": null,
   "metadata": {
    "collapsed": true
   },
   "outputs": [],
   "source": []
  },
  {
   "cell_type": "code",
   "execution_count": null,
   "metadata": {
    "collapsed": true
   },
   "outputs": [],
   "source": []
  },
  {
   "cell_type": "code",
   "execution_count": null,
   "metadata": {
    "collapsed": true
   },
   "outputs": [],
   "source": []
  },
  {
   "cell_type": "code",
   "execution_count": null,
   "metadata": {
    "collapsed": true
   },
   "outputs": [],
   "source": []
  },
  {
   "cell_type": "code",
   "execution_count": null,
   "metadata": {
    "collapsed": true
   },
   "outputs": [],
   "source": []
  },
  {
   "cell_type": "code",
   "execution_count": null,
   "metadata": {
    "collapsed": true
   },
   "outputs": [],
   "source": []
  },
  {
   "cell_type": "code",
   "execution_count": null,
   "metadata": {
    "collapsed": true
   },
   "outputs": [],
   "source": []
  },
  {
   "cell_type": "code",
   "execution_count": null,
   "metadata": {
    "collapsed": true
   },
   "outputs": [],
   "source": []
  },
  {
   "cell_type": "code",
   "execution_count": null,
   "metadata": {
    "collapsed": true
   },
   "outputs": [],
   "source": []
  },
  {
   "cell_type": "code",
   "execution_count": null,
   "metadata": {
    "collapsed": true
   },
   "outputs": [],
   "source": []
  },
  {
   "cell_type": "code",
   "execution_count": null,
   "metadata": {
    "collapsed": true
   },
   "outputs": [],
   "source": []
  },
  {
   "cell_type": "code",
   "execution_count": null,
   "metadata": {
    "collapsed": true
   },
   "outputs": [],
   "source": []
  },
  {
   "cell_type": "code",
   "execution_count": null,
   "metadata": {
    "collapsed": true
   },
   "outputs": [],
   "source": []
  },
  {
   "cell_type": "code",
   "execution_count": null,
   "metadata": {
    "collapsed": true
   },
   "outputs": [],
   "source": []
  },
  {
   "cell_type": "code",
   "execution_count": null,
   "metadata": {
    "collapsed": true
   },
   "outputs": [],
   "source": []
  },
  {
   "cell_type": "code",
   "execution_count": null,
   "metadata": {
    "collapsed": true
   },
   "outputs": [],
   "source": []
  },
  {
   "cell_type": "code",
   "execution_count": null,
   "metadata": {
    "collapsed": true
   },
   "outputs": [],
   "source": []
  },
  {
   "cell_type": "code",
   "execution_count": null,
   "metadata": {
    "collapsed": true
   },
   "outputs": [],
   "source": []
  },
  {
   "cell_type": "code",
   "execution_count": null,
   "metadata": {
    "collapsed": true
   },
   "outputs": [],
   "source": []
  },
  {
   "cell_type": "code",
   "execution_count": null,
   "metadata": {
    "collapsed": true
   },
   "outputs": [],
   "source": []
  },
  {
   "cell_type": "code",
   "execution_count": null,
   "metadata": {
    "collapsed": true
   },
   "outputs": [],
   "source": []
  },
  {
   "cell_type": "code",
   "execution_count": null,
   "metadata": {
    "collapsed": true
   },
   "outputs": [],
   "source": []
  },
  {
   "cell_type": "code",
   "execution_count": null,
   "metadata": {
    "collapsed": true
   },
   "outputs": [],
   "source": []
  },
  {
   "cell_type": "code",
   "execution_count": null,
   "metadata": {
    "collapsed": true
   },
   "outputs": [],
   "source": []
  },
  {
   "cell_type": "code",
   "execution_count": null,
   "metadata": {
    "collapsed": true
   },
   "outputs": [],
   "source": []
  },
  {
   "cell_type": "code",
   "execution_count": null,
   "metadata": {
    "collapsed": true
   },
   "outputs": [],
   "source": []
  },
  {
   "cell_type": "code",
   "execution_count": null,
   "metadata": {
    "collapsed": true
   },
   "outputs": [],
   "source": []
  },
  {
   "cell_type": "code",
   "execution_count": null,
   "metadata": {
    "collapsed": true
   },
   "outputs": [],
   "source": []
  },
  {
   "cell_type": "code",
   "execution_count": null,
   "metadata": {
    "collapsed": true
   },
   "outputs": [],
   "source": []
  },
  {
   "cell_type": "code",
   "execution_count": null,
   "metadata": {
    "collapsed": true
   },
   "outputs": [],
   "source": []
  },
  {
   "cell_type": "code",
   "execution_count": null,
   "metadata": {
    "collapsed": true
   },
   "outputs": [],
   "source": []
  },
  {
   "cell_type": "code",
   "execution_count": null,
   "metadata": {
    "collapsed": true
   },
   "outputs": [],
   "source": []
  },
  {
   "cell_type": "code",
   "execution_count": null,
   "metadata": {
    "collapsed": true
   },
   "outputs": [],
   "source": []
  },
  {
   "cell_type": "code",
   "execution_count": null,
   "metadata": {
    "collapsed": true
   },
   "outputs": [],
   "source": []
  },
  {
   "cell_type": "code",
   "execution_count": null,
   "metadata": {
    "collapsed": true
   },
   "outputs": [],
   "source": []
  },
  {
   "cell_type": "code",
   "execution_count": null,
   "metadata": {
    "collapsed": true
   },
   "outputs": [],
   "source": []
  },
  {
   "cell_type": "code",
   "execution_count": null,
   "metadata": {
    "collapsed": true
   },
   "outputs": [],
   "source": []
  },
  {
   "cell_type": "code",
   "execution_count": null,
   "metadata": {
    "collapsed": true
   },
   "outputs": [],
   "source": []
  },
  {
   "cell_type": "code",
   "execution_count": null,
   "metadata": {
    "collapsed": true
   },
   "outputs": [],
   "source": []
  },
  {
   "cell_type": "code",
   "execution_count": null,
   "metadata": {
    "collapsed": true
   },
   "outputs": [],
   "source": []
  },
  {
   "cell_type": "code",
   "execution_count": null,
   "metadata": {
    "collapsed": true
   },
   "outputs": [],
   "source": []
  },
  {
   "cell_type": "code",
   "execution_count": null,
   "metadata": {
    "collapsed": true
   },
   "outputs": [],
   "source": []
  },
  {
   "cell_type": "code",
   "execution_count": null,
   "metadata": {
    "collapsed": true
   },
   "outputs": [],
   "source": []
  },
  {
   "cell_type": "code",
   "execution_count": null,
   "metadata": {
    "collapsed": true
   },
   "outputs": [],
   "source": []
  },
  {
   "cell_type": "code",
   "execution_count": null,
   "metadata": {
    "collapsed": true
   },
   "outputs": [],
   "source": []
  },
  {
   "cell_type": "code",
   "execution_count": null,
   "metadata": {
    "collapsed": true
   },
   "outputs": [],
   "source": []
  },
  {
   "cell_type": "code",
   "execution_count": null,
   "metadata": {
    "collapsed": true
   },
   "outputs": [],
   "source": []
  },
  {
   "cell_type": "code",
   "execution_count": null,
   "metadata": {
    "collapsed": true
   },
   "outputs": [],
   "source": []
  },
  {
   "cell_type": "code",
   "execution_count": null,
   "metadata": {
    "collapsed": true
   },
   "outputs": [],
   "source": []
  },
  {
   "cell_type": "code",
   "execution_count": null,
   "metadata": {
    "collapsed": true
   },
   "outputs": [],
   "source": []
  },
  {
   "cell_type": "code",
   "execution_count": null,
   "metadata": {
    "collapsed": true
   },
   "outputs": [],
   "source": []
  },
  {
   "cell_type": "code",
   "execution_count": null,
   "metadata": {
    "collapsed": true
   },
   "outputs": [],
   "source": []
  },
  {
   "cell_type": "code",
   "execution_count": null,
   "metadata": {
    "collapsed": true
   },
   "outputs": [],
   "source": []
  },
  {
   "cell_type": "code",
   "execution_count": null,
   "metadata": {
    "collapsed": true
   },
   "outputs": [],
   "source": []
  },
  {
   "cell_type": "code",
   "execution_count": null,
   "metadata": {
    "collapsed": true
   },
   "outputs": [],
   "source": []
  },
  {
   "cell_type": "code",
   "execution_count": null,
   "metadata": {
    "collapsed": true
   },
   "outputs": [],
   "source": []
  },
  {
   "cell_type": "code",
   "execution_count": null,
   "metadata": {
    "collapsed": true
   },
   "outputs": [],
   "source": []
  },
  {
   "cell_type": "code",
   "execution_count": null,
   "metadata": {
    "collapsed": true
   },
   "outputs": [],
   "source": []
  },
  {
   "cell_type": "code",
   "execution_count": null,
   "metadata": {
    "collapsed": true
   },
   "outputs": [],
   "source": []
  },
  {
   "cell_type": "code",
   "execution_count": null,
   "metadata": {
    "collapsed": true
   },
   "outputs": [],
   "source": []
  },
  {
   "cell_type": "code",
   "execution_count": null,
   "metadata": {
    "collapsed": true
   },
   "outputs": [],
   "source": []
  },
  {
   "cell_type": "code",
   "execution_count": null,
   "metadata": {
    "collapsed": true
   },
   "outputs": [],
   "source": []
  },
  {
   "cell_type": "code",
   "execution_count": null,
   "metadata": {
    "collapsed": true
   },
   "outputs": [],
   "source": []
  },
  {
   "cell_type": "code",
   "execution_count": null,
   "metadata": {
    "collapsed": true
   },
   "outputs": [],
   "source": []
  },
  {
   "cell_type": "code",
   "execution_count": null,
   "metadata": {
    "collapsed": true
   },
   "outputs": [],
   "source": []
  },
  {
   "cell_type": "code",
   "execution_count": null,
   "metadata": {
    "collapsed": true
   },
   "outputs": [],
   "source": []
  },
  {
   "cell_type": "code",
   "execution_count": null,
   "metadata": {
    "collapsed": true
   },
   "outputs": [],
   "source": []
  },
  {
   "cell_type": "code",
   "execution_count": null,
   "metadata": {
    "collapsed": true
   },
   "outputs": [],
   "source": []
  },
  {
   "cell_type": "code",
   "execution_count": null,
   "metadata": {
    "collapsed": true
   },
   "outputs": [],
   "source": []
  },
  {
   "cell_type": "code",
   "execution_count": null,
   "metadata": {
    "collapsed": true
   },
   "outputs": [],
   "source": []
  },
  {
   "cell_type": "code",
   "execution_count": null,
   "metadata": {
    "collapsed": true
   },
   "outputs": [],
   "source": []
  },
  {
   "cell_type": "code",
   "execution_count": null,
   "metadata": {
    "collapsed": true
   },
   "outputs": [],
   "source": []
  },
  {
   "cell_type": "code",
   "execution_count": null,
   "metadata": {
    "collapsed": true
   },
   "outputs": [],
   "source": []
  },
  {
   "cell_type": "code",
   "execution_count": null,
   "metadata": {
    "collapsed": true
   },
   "outputs": [],
   "source": []
  },
  {
   "cell_type": "code",
   "execution_count": null,
   "metadata": {
    "collapsed": true
   },
   "outputs": [],
   "source": []
  },
  {
   "cell_type": "code",
   "execution_count": null,
   "metadata": {
    "collapsed": true
   },
   "outputs": [],
   "source": []
  },
  {
   "cell_type": "code",
   "execution_count": null,
   "metadata": {
    "collapsed": true
   },
   "outputs": [],
   "source": []
  },
  {
   "cell_type": "code",
   "execution_count": null,
   "metadata": {
    "collapsed": true
   },
   "outputs": [],
   "source": []
  },
  {
   "cell_type": "code",
   "execution_count": null,
   "metadata": {
    "collapsed": true
   },
   "outputs": [],
   "source": []
  },
  {
   "cell_type": "code",
   "execution_count": null,
   "metadata": {
    "collapsed": true
   },
   "outputs": [],
   "source": []
  },
  {
   "cell_type": "code",
   "execution_count": null,
   "metadata": {
    "collapsed": true
   },
   "outputs": [],
   "source": []
  },
  {
   "cell_type": "code",
   "execution_count": null,
   "metadata": {
    "collapsed": true
   },
   "outputs": [],
   "source": []
  },
  {
   "cell_type": "code",
   "execution_count": null,
   "metadata": {
    "collapsed": true
   },
   "outputs": [],
   "source": []
  },
  {
   "cell_type": "code",
   "execution_count": null,
   "metadata": {
    "collapsed": true
   },
   "outputs": [],
   "source": []
  },
  {
   "cell_type": "code",
   "execution_count": null,
   "metadata": {
    "collapsed": true
   },
   "outputs": [],
   "source": []
  },
  {
   "cell_type": "code",
   "execution_count": null,
   "metadata": {
    "collapsed": true
   },
   "outputs": [],
   "source": []
  },
  {
   "cell_type": "code",
   "execution_count": null,
   "metadata": {
    "collapsed": true
   },
   "outputs": [],
   "source": []
  },
  {
   "cell_type": "code",
   "execution_count": null,
   "metadata": {
    "collapsed": true
   },
   "outputs": [],
   "source": []
  },
  {
   "cell_type": "code",
   "execution_count": null,
   "metadata": {
    "collapsed": true
   },
   "outputs": [],
   "source": []
  },
  {
   "cell_type": "code",
   "execution_count": null,
   "metadata": {
    "collapsed": true
   },
   "outputs": [],
   "source": []
  },
  {
   "cell_type": "code",
   "execution_count": null,
   "metadata": {
    "collapsed": true
   },
   "outputs": [],
   "source": []
  },
  {
   "cell_type": "code",
   "execution_count": null,
   "metadata": {
    "collapsed": true
   },
   "outputs": [],
   "source": []
  },
  {
   "cell_type": "code",
   "execution_count": null,
   "metadata": {
    "collapsed": true
   },
   "outputs": [],
   "source": []
  },
  {
   "cell_type": "code",
   "execution_count": null,
   "metadata": {
    "collapsed": true
   },
   "outputs": [],
   "source": []
  },
  {
   "cell_type": "code",
   "execution_count": null,
   "metadata": {
    "collapsed": true
   },
   "outputs": [],
   "source": []
  },
  {
   "cell_type": "code",
   "execution_count": null,
   "metadata": {
    "collapsed": true
   },
   "outputs": [],
   "source": []
  },
  {
   "cell_type": "code",
   "execution_count": null,
   "metadata": {
    "collapsed": true
   },
   "outputs": [],
   "source": []
  },
  {
   "cell_type": "code",
   "execution_count": null,
   "metadata": {
    "collapsed": true
   },
   "outputs": [],
   "source": []
  },
  {
   "cell_type": "code",
   "execution_count": null,
   "metadata": {
    "collapsed": true
   },
   "outputs": [],
   "source": []
  },
  {
   "cell_type": "code",
   "execution_count": null,
   "metadata": {
    "collapsed": true
   },
   "outputs": [],
   "source": []
  },
  {
   "cell_type": "code",
   "execution_count": null,
   "metadata": {
    "collapsed": true
   },
   "outputs": [],
   "source": []
  },
  {
   "cell_type": "code",
   "execution_count": null,
   "metadata": {
    "collapsed": true
   },
   "outputs": [],
   "source": []
  },
  {
   "cell_type": "code",
   "execution_count": null,
   "metadata": {
    "collapsed": true
   },
   "outputs": [],
   "source": []
  },
  {
   "cell_type": "code",
   "execution_count": null,
   "metadata": {
    "collapsed": true
   },
   "outputs": [],
   "source": []
  },
  {
   "cell_type": "code",
   "execution_count": null,
   "metadata": {
    "collapsed": true
   },
   "outputs": [],
   "source": []
  },
  {
   "cell_type": "code",
   "execution_count": null,
   "metadata": {
    "collapsed": true
   },
   "outputs": [],
   "source": []
  },
  {
   "cell_type": "code",
   "execution_count": null,
   "metadata": {
    "collapsed": true
   },
   "outputs": [],
   "source": []
  },
  {
   "cell_type": "code",
   "execution_count": null,
   "metadata": {
    "collapsed": true
   },
   "outputs": [],
   "source": []
  },
  {
   "cell_type": "code",
   "execution_count": null,
   "metadata": {
    "collapsed": true
   },
   "outputs": [],
   "source": []
  },
  {
   "cell_type": "code",
   "execution_count": null,
   "metadata": {
    "collapsed": true
   },
   "outputs": [],
   "source": []
  },
  {
   "cell_type": "code",
   "execution_count": null,
   "metadata": {
    "collapsed": true
   },
   "outputs": [],
   "source": []
  },
  {
   "cell_type": "code",
   "execution_count": null,
   "metadata": {
    "collapsed": true
   },
   "outputs": [],
   "source": []
  },
  {
   "cell_type": "code",
   "execution_count": null,
   "metadata": {
    "collapsed": true
   },
   "outputs": [],
   "source": []
  },
  {
   "cell_type": "code",
   "execution_count": null,
   "metadata": {
    "collapsed": true
   },
   "outputs": [],
   "source": []
  },
  {
   "cell_type": "code",
   "execution_count": null,
   "metadata": {
    "collapsed": true
   },
   "outputs": [],
   "source": []
  },
  {
   "cell_type": "code",
   "execution_count": null,
   "metadata": {
    "collapsed": true
   },
   "outputs": [],
   "source": []
  },
  {
   "cell_type": "code",
   "execution_count": null,
   "metadata": {
    "collapsed": true
   },
   "outputs": [],
   "source": []
  },
  {
   "cell_type": "code",
   "execution_count": null,
   "metadata": {
    "collapsed": true
   },
   "outputs": [],
   "source": []
  },
  {
   "cell_type": "code",
   "execution_count": null,
   "metadata": {
    "collapsed": true
   },
   "outputs": [],
   "source": []
  },
  {
   "cell_type": "code",
   "execution_count": null,
   "metadata": {
    "collapsed": true
   },
   "outputs": [],
   "source": []
  },
  {
   "cell_type": "code",
   "execution_count": null,
   "metadata": {
    "collapsed": true
   },
   "outputs": [],
   "source": []
  },
  {
   "cell_type": "code",
   "execution_count": null,
   "metadata": {
    "collapsed": true
   },
   "outputs": [],
   "source": []
  },
  {
   "cell_type": "code",
   "execution_count": null,
   "metadata": {
    "collapsed": true
   },
   "outputs": [],
   "source": []
  },
  {
   "cell_type": "code",
   "execution_count": null,
   "metadata": {
    "collapsed": true
   },
   "outputs": [],
   "source": []
  },
  {
   "cell_type": "code",
   "execution_count": null,
   "metadata": {
    "collapsed": true
   },
   "outputs": [],
   "source": []
  },
  {
   "cell_type": "code",
   "execution_count": null,
   "metadata": {
    "collapsed": true
   },
   "outputs": [],
   "source": []
  },
  {
   "cell_type": "code",
   "execution_count": null,
   "metadata": {
    "collapsed": true
   },
   "outputs": [],
   "source": []
  },
  {
   "cell_type": "code",
   "execution_count": null,
   "metadata": {
    "collapsed": true
   },
   "outputs": [],
   "source": [
    "\n"
   ]
  }
 ],
 "metadata": {
  "anaconda-cloud": {},
  "kernelspec": {
   "display_name": "Python [Root]",
   "language": "python",
   "name": "Python [Root]"
  },
  "language_info": {
   "codemirror_mode": {
    "name": "ipython",
    "version": 3
   },
   "file_extension": ".py",
   "mimetype": "text/x-python",
   "name": "python",
   "nbconvert_exporter": "python",
   "pygments_lexer": "ipython3",
   "version": "3.5.2"
  }
 },
 "nbformat": 4,
 "nbformat_minor": 0
}
