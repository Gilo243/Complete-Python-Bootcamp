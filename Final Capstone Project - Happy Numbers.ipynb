{
 "cells": [
  {
   "cell_type": "code",
   "execution_count": 1,
   "metadata": {
    "collapsed": false
   },
   "outputs": [],
   "source": [
    "def get_digits(number):\n",
    "    \n",
    "    digits = []\n",
    "    \n",
    "    if number == 0:\n",
    "        digits.append(number)\n",
    "    \n",
    "    while number:\n",
    "        digits.append(number % 10)\n",
    "        number //= 10\n",
    "        \n",
    "    digits.reverse()\n",
    "    \n",
    "    return digits\n",
    "        \n",
    "        \n",
    "        \n",
    "    \n",
    "    "
   ]
  },
  {
   "cell_type": "code",
   "execution_count": 2,
   "metadata": {
    "collapsed": true
   },
   "outputs": [],
   "source": [
    "def is_happy_number(number):\n",
    "    \n",
    "    prev_numbers = []\n",
    "    sum_digits_squared = ''\n",
    "    \n",
    "    while sum_digits_squared != 1:\n",
    "        d = get_digits(number)\n",
    "        sum_digits_squared = sum((el**2 for el in d))\n",
    "        \n",
    "        if sum_digits_squared in prev_numbers:\n",
    "            return False\n",
    "        else:\n",
    "            prev_numbers.append(sum_digits_squared)\n",
    "            number = sum_digits_squared\n",
    "      \n",
    "    return True"
   ]
  },
  {
   "cell_type": "code",
   "execution_count": 5,
   "metadata": {
    "collapsed": true
   },
   "outputs": [],
   "source": [
    "def happy_numbers(start=0, n=8):\n",
    "    count = 0\n",
    "    current = start\n",
    "    \n",
    "    while count < n:\n",
    "        if is_happy_number(current):\n",
    "            yield current\n",
    "            count += 1\n",
    "        current += 1\n",
    "    \n",
    "    "
   ]
  },
  {
   "cell_type": "code",
   "execution_count": 21,
   "metadata": {
    "collapsed": false
   },
   "outputs": [
    {
     "name": "stdout",
     "output_type": "stream",
     "text": [
      "1\n",
      "7\n",
      "10\n",
      "13\n",
      "19\n",
      "23\n",
      "28\n",
      "31\n",
      "32\n",
      "44\n"
     ]
    }
   ],
   "source": [
    "for number in happy_numbers(1,10):\n",
    "    print(number)"
   ]
  },
  {
   "cell_type": "code",
   "execution_count": 22,
   "metadata": {
    "collapsed": true
   },
   "outputs": [],
   "source": [
    "g = happy_numbers()"
   ]
  },
  {
   "cell_type": "code",
   "execution_count": 29,
   "metadata": {
    "collapsed": false
   },
   "outputs": [
    {
     "data": {
      "text/plain": [
       "28"
      ]
     },
     "execution_count": 29,
     "metadata": {},
     "output_type": "execute_result"
    }
   ],
   "source": [
    "next(g)"
   ]
  },
  {
   "cell_type": "code",
   "execution_count": null,
   "metadata": {
    "collapsed": true
   },
   "outputs": [],
   "source": []
  }
 ],
 "metadata": {
  "kernelspec": {
   "display_name": "Python [Root]",
   "language": "python",
   "name": "Python [Root]"
  },
  "language_info": {
   "codemirror_mode": {
    "name": "ipython",
    "version": 3
   },
   "file_extension": ".py",
   "mimetype": "text/x-python",
   "name": "python",
   "nbconvert_exporter": "python",
   "pygments_lexer": "ipython3",
   "version": "3.5.2"
  }
 },
 "nbformat": 4,
 "nbformat_minor": 0
}
